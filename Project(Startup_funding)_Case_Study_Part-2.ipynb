{
 "cells": [
  {
   "cell_type": "markdown",
   "metadata": {},
   "source": [
    "# Project(Startup_funding)_Case_Study_Part-2"
   ]
  },
  {
   "cell_type": "markdown",
   "metadata": {},
   "source": [
    "# Q1.\n",
    "'''Your Friend has developed the Product and he wants to establish the product startup and he is searching for a perfect location where getting the investment has a high chance. But due to its financial restriction, he can choose only between three locations -  Bangalore, Mumbai, and NCR. As a friend, you want to help your friend deciding the location. NCR include Gurgaon, Noida and New Delhi. Find the location where the most number of funding is done. That means, find the location where startups has received funding maximum number of times. Plot the bar graph between location and number of funding. Take city name \"Delhi\" as \"New Delhi\". Check the case-sensitiveness of cities also. That means, at some place instead of \"Bangalore\", \"bangalore\" is given. Take city name as \"Bangalore\". For few startups multiple locations are given, one Indian and one Foreign. Consider the startup if any one of the city lies in given locations.'''"
   ]
  },
  {
   "cell_type": "markdown",
   "metadata": {},
   "source": [
    "# Explanation:\n",
    "\n",
    "1. Read the data from csv file using read_csv function,\n",
    "2. Dropped the rows containing Nan’s in City location column.\n",
    "3. Replaced the wrong city location names withthe correct ones using replace function.\n",
    "4. Filtered the data according to location which my freind can choose due to financial restriction i.e., Bangalore, Mumbai, and NCR.\n",
    "5. Applied value_counts() function on the \"CityLocation\" name it will return the city names with the total count of times they recieved funding in descending order. \n",
    "6. Stored the city names values in x and the count values in y. Plot the bar graph with x and y."
   ]
  },
  {
   "cell_type": "code",
   "execution_count": 13,
   "metadata": {},
   "outputs": [
    {
     "name": "stdout",
     "output_type": "stream",
     "text": [
      "City recieved maximum funding is: Bangalore\n"
     ]
    },
    {
     "data": {
      "image/png": "[encoded data removed]",
      "text/plain": [
       "<Figure size 432x288 with 1 Axes>"
      ]
     },
     "metadata": {
      "needs_background": "light"
     },
     "output_type": "display_data"
    }
   ],
   "source": [
    "import pandas as pd\n",
    "import matplotlib.pyplot as plt\n",
    "\n",
    "path=\"C:\\\\Users\\\\RAHUL\\\\Documents\\\\Pandas_Project\\\\Case_study2_(Startup_funding)\\\\startup_funding.csv\"\n",
    "data=pd.read_csv(path)\n",
    "\n",
    "df=data.copy()\n",
    "df.dropna(subset = [\"CityLocation\"],inplace = True)\n",
    "# df['CityLocation']=df['CityLocation'].str.split('/',expand=True)[0]\n",
    "df['CityLocation'].replace('Delhi','New Delhi',inplace=True)\n",
    "df['CityLocation'].replace('bangalore','Bangalore',inplace=True)\n",
    "cities=['New Delhi', 'Bangalore','Mumbai', 'Noida', 'Gurgaon']\n",
    "df=df[df['CityLocation'].isin(cities)]\n",
    "city=df['CityLocation'].value_counts()\n",
    "print(\"City recieved maximum funding is:\",city.index[0])\n",
    "x=city.index\n",
    "y=city.values\n",
    "\n",
    "plt.xlabel('Location')\n",
    "plt.ylabel('Number of funding')\n",
    "plt.xticks(rotation=50)\n",
    "\n",
    "plt.bar(x,y)\n",
    "plt.show()"
   ]
  },
  {
   "cell_type": "markdown",
   "metadata": {},
   "source": [
    "# Q2.\n",
    "'''Even after trying for so many times, your friend’s startup could not find the investment. So you decided to take this matter in your hand and try to find the list of investors who probably can invest in your friend’s startup. Your list will increase the chance of your friend startup getting some initial investment by contacting these investors. Find the top 5 investors who have invested maximum number of times (consider repeat investments in one company also). In a startup, multiple investors might have invested. So consider each investor for that startup. Ignore undisclosed investors.'''"
   ]
  },
  {
   "cell_type": "markdown",
   "metadata": {},
   "source": [
    "# Explanation:\n",
    "\n",
    "1. Read the data from csv file using read_csv function.\n",
    "2. Dropped the rows containing Nan in investor's name column.\n",
    "3. Created a function createDict which created a dictionary \"d\" by traversing through each and every investor’s name and maintaining a count for each investor. There are many places where there are multiple investor’s name , in those conditions used split function to split all the names and traversed through each name separately and maintained there count.createDict function will return d to variable dictionary.\n",
    "4. After getting the total number of times each investors invested in startups, sorted the keys according to the values of the dictionary in decreasing order in sorted_dict. Traversed the sorted_dict dictionary till 5 key-value pairs to print the first five names and stored key values in x and values in y to plot a pie chart based on y."
   ]
  },
  {
   "cell_type": "code",
   "execution_count": 12,
   "metadata": {},
   "outputs": [
    {
     "name": "stdout",
     "output_type": "stream",
     "text": [
      "Sequoia Capital\n",
      "Accel Partners\n",
      "Kalaari Capital\n",
      "SAIF Partners\n",
      "Indian Angel Network\n"
     ]
    },
    {
     "data": {
      "image/png": "[encoded data removed]",
      "text/plain": [
       "<Figure size 432x288 with 1 Axes>"
      ]
     },
     "metadata": {},
     "output_type": "display_data"
    }
   ],
   "source": [
    "import pandas as pd\n",
    "import matplotlib.pyplot as plt\n",
    "import numpy as np\n",
    "from collections import OrderedDict\n",
    "\n",
    "path=\"C:\\\\Users\\\\RAHUL\\\\Documents\\\\Pandas_Project\\\\Case_study2_(Startup_funding)\\\\startup_funding.csv\"\n",
    "data=pd.read_csv(path)\n",
    "df=data.copy()\n",
    "df.dropna(subset=['InvestorsName'],inplace=True)\n",
    "def createDict(array):\n",
    "    d={}\n",
    "    for i in array:\n",
    "        if ',' not in i:\n",
    "            d[i]=d.get(i,0)+1\n",
    "        else:\n",
    "            string=i.strip().split(',')\n",
    "            for j in string:\n",
    "                j=j.strip()\n",
    "                d[j]=d.get(j,0)+1\n",
    "    return d\n",
    "            \n",
    "dictionary=createDict(df['InvestorsName'])\n",
    "sorted_dict=sorted(dictionary.items(), key=operator.itemgetter(1),reverse=True)\n",
    "x,y=[],[]\n",
    "for key,val in sorted_dict[:5]:\n",
    "    x.append(key)\n",
    "    y.append(val)\n",
    "    print(key)\n",
    "plt.pie(y, autopct=\"%.2f\" ,labels=x)\n",
    "plt.show()"
   ]
  },
  {
   "cell_type": "markdown",
   "metadata": {},
   "source": [
    "# Q3.\n",
    "'''After re-analysing the dataset you found out that some investors have invested in the same startup at different number of funding rounds. So before finalising the previous list, you want to improvise it by finding the top 5 investors who have invested in different number of startups. This list will be more helpful than your previous list in finding the investment for your friend startup. Find the top 5 investors who have invested maximum number of times in different companies. That means, if one investor has invested multiple times in one startup, count one for that company. There are many errors in startup names. Ignore correcting all, just handle the important ones - Ola, Flipkart, Oyo and Paytm.'''"
   ]
  },
  {
   "cell_type": "markdown",
   "metadata": {},
   "source": [
    "# Explanation:\n",
    "\n",
    "1. Read the data from csv file using read_csv function. \n",
    "2. Dropped the rows containing Nan in investor's name , startup name columns .\n",
    "3. Rectifying the error names in startup names by changing all the startupNames containing Oyo, Flipkart, Ola and Paytm to only  Oyo, Flipkart, Ola and Paytm. \n",
    "4. Created a dictionary named d, for each investor names maintained a set, means each key (investor's name) having value , a\n",
    "set(names of startups in which they invested). Set is taken as a value to avoid count of multiple investments in a single startup by an investor . In the set there are unique startup names in which investor's had invested . There are many places where there are multiple investor’s name, in those conditions used split function to split all the names and traversed through\n",
    "each name separately and maintained the startup’s in which they invested. \n",
    "5. Created a new dictionary where key is investors name and value is length of set of values of previous dictionary i.e the\n",
    "number of startups in which they invested , after that sorted the keys according to the values of the dictionary in decreasing order.\n",
    "6. Printed the first five names."
   ]
  },
  {
   "cell_type": "code",
   "execution_count": 11,
   "metadata": {},
   "outputs": [
    {
     "name": "stdout",
     "output_type": "stream",
     "text": [
      "Sequoia Capital\n",
      "Accel Partners\n",
      "Kalaari Capital\n",
      "Indian Angel Network\n",
      "Blume Ventures\n"
     ]
    }
   ],
   "source": [
    "import pandas as pd\n",
    "import matplotlib.pyplot as plt\n",
    "import numpy as np\n",
    "import operator\n",
    "\n",
    "path=\"C:\\\\Users\\\\RAHUL\\\\Documents\\\\Pandas_Project\\\\Case_study2_(Startup_funding)\\\\startup_funding.csv\"\n",
    "data=pd.read_csv(path)\n",
    "df=data.copy()\n",
    "\n",
    "df.dropna(subset=['StartupName'],inplace=True)\n",
    "df.dropna(subset=['InvestorsName'],inplace=True)\n",
    "# rectifying spells of the startup names:\n",
    "\n",
    "df.StartupName = df.StartupName.apply(lambda x: 'Oyo' if 'Oyo' in x else x)\n",
    "df.StartupName = df.StartupName.apply(lambda x: 'Flipkart' if 'Flipkart' in x else x)\n",
    "df.StartupName = df.StartupName.apply(lambda x: 'Ola' if 'Ola' in x else x)\n",
    "df.StartupName = df.StartupName.apply(lambda x: 'Paytm' if 'Paytm' in x else x)\n",
    "\n",
    "\n",
    "investors=np.array(df['InvestorsName'])\n",
    "startup=np.array(df['StartupName'])\n",
    "\n",
    "d={}\n",
    "for i in range(len(investors)):\n",
    "    if ',' not in investors[i]:\n",
    "        if investors[i] in d:\n",
    "            d[investors[i]].add(startup[i])\n",
    "        else:\n",
    "            d[investors[i]]=set()\n",
    "            d[investors[i]].add(startup[i])\n",
    "    else:\n",
    "        string=investors[i].strip().split(',')\n",
    "        for j in string:\n",
    "            j=j.strip()\n",
    "            if j in d:\n",
    "                d[j].add(startup[i])\n",
    "            else:\n",
    "                d[j]=set()\n",
    "                d[j].add(startup[i])\n",
    "\n",
    "                \n",
    "h={}\n",
    "for key, value in d.items():\n",
    "    #print value\n",
    "    if key!='':\n",
    "        h[key]=len(list(filter(None, value)))\n",
    "\n",
    "h= dict(sorted(h.items(), key=operator.itemgetter(1),reverse=True))\n",
    "h= dict(list(h.items())[0: 5])\n",
    "for key, value in h.items(): \n",
    "    print (key)\n",
    "\n"
   ]
  },
  {
   "cell_type": "markdown",
   "metadata": {},
   "source": [
    "# Q4.\n",
    "'''Even after putting so much effort in finding the probable investors, it didn't turn out to be helpful for your friend. So you went to your investor friend to understand the situation better and your investor friend explained to you about the different Investment Types and their features. This new information will be helpful in finding the right investor. Since your friend startup is at an early stage startup, the best-suited investment type would be - Seed Funding and Crowdfunding. Find the top 5 investors who have invested in a different number of startups and their investment type is Crowdfunding or Seed Funding. Correct spelling of investment types are - \"Private Equity\", \"Seed Funding\", \"Debt Funding\", and \"Crowd Funding\". Keep an eye for any spelling mistake. You can find this by printing unique values from this column. There are many errors in startup names. Ignore correcting all, just handle the important ones - Ola, Flipkart, Oyo and Paytm.'''"
   ]
  },
  {
   "cell_type": "markdown",
   "metadata": {},
   "source": [
    "# Explanation:\n",
    "\n",
    "1. Read the data from csv file using read_csv function, after that dropped the rows containing Nan in investor's name column.\n",
    "2. Replaced the Undisclosed Investors type with \"\".\n",
    "3. Rectified the names of the Investment Types as per the requirement.\n",
    "4. Filtered the database , kept only those rows having investment type \"Seed funding\" and \"Crowd funding\". Created a dictionary by the name d, traversed through each and every investor’s name and maintained a count for each investor. There are many places where there are multiple investor’s name , in those conditions used split function to split all the names and traversed through each name separately and maintained there count . \n",
    "5. Deleted the \"\" keys from the dictionary d.\n",
    "6. After getting the total number of times each investors invested in startups, sorted the keys according to the values of the dictionary in decreasing order and printed the first five names."
   ]
  },
  {
   "cell_type": "code",
   "execution_count": 10,
   "metadata": {},
   "outputs": [
    {
     "name": "stdout",
     "output_type": "stream",
     "text": [
      "Indian Angel Network\n",
      "Rajan Anandan\n",
      "LetsVenture\n",
      "Anupam Mittal\n",
      "Group of Angel Investors\n"
     ]
    }
   ],
   "source": [
    "import pandas as pd\n",
    "import matplotlib.pyplot as plt\n",
    "\n",
    "path=\"C:\\\\Users\\\\RAHUL\\\\Documents\\\\Pandas_Project\\\\Case_study2_(Startup_funding)\\\\startup_funding.csv\"\n",
    "data=pd.read_csv(path)\n",
    "df=data.copy()\n",
    "df.dropna(subset=['InvestorsName'],inplace=True)\n",
    "\n",
    "df['InvestorsName'].replace('Undisclosed Investors','', inplace=True)\n",
    "df['InvestorsName'].replace('Undisclosed investors','', inplace=True)\n",
    "df['InvestorsName'].replace('undisclosed investors','', inplace=True)\n",
    "\n",
    "# rectifying spells of the Investment types\n",
    "df['InvestmentType'].replace('PrivateEquity','Private Equity', inplace=True)\n",
    "df['InvestmentType'].replace('SeedFunding','Seed Funding', inplace=True)\n",
    "df['InvestmentType'].replace('DebtFunding','Debt Funding', inplace=True)\n",
    "df['InvestmentType'].replace('Crowd funding','Crowd Funding', inplace=True)\n",
    "df=df[(df['InvestmentType']!=\"Private Equity\") & (df['InvestmentType']!=\"Debt Equity\")]\n",
    "\n",
    "d={}\n",
    "for i in df['InvestorsName'].values:\n",
    "    if ',' in i:\n",
    "        string=i.strip().split(',')\n",
    "        for j in string:\n",
    "            j=j.strip()\n",
    "            d[j]=d.get(j,0)+1\n",
    "    else:\n",
    "        d[i]=d.get(i,0)+1\n",
    "    \n",
    "del d[\"\"]\n",
    "        \n",
    "h= dict(sorted(d.items(), key=operator.itemgetter(1),reverse=True))\n",
    "h= dict(list(h.items())[0:5])\n",
    "for key, value in h.items(): \n",
    "    print (key)\n",
    "     \n"
   ]
  },
  {
   "cell_type": "markdown",
   "metadata": {},
   "source": [
    "# Q5.\n",
    "'''Due to your immense help, your friend startup successfully got seed funding and it is on the operational mode. Now your friend wants to expand his startup and he is looking for new investors for his startup. Now you again come as a saviour to help your friend and want to create a list of probable new new investors. Before moving forward you remember your investor friend advice that finding the investors by analysing the investment type. Since your friend startup is not in early phase it is in growth stage so the best-suited investment type is Private Equity. Find the top 5 investors who have invested in a different number of startups and their investment type is Private Equity. Correct spelling of investment types are - \"Private Equity\", \"Seed Funding\", \"Debt Funding\", and \"Crowd Funding\". Keep an eye for any spelling mistake. You can find this by printing unique values from this column.There are many errors in startup names. Ignore correcting all, just handle the important ones - Ola, Flipkart, Oyo and Paytm.'''"
   ]
  },
  {
   "cell_type": "markdown",
   "metadata": {},
   "source": [
    "# Explanation:\n",
    "\n",
    "1. Read the data from csv file using read_csv function.\n",
    "2. Dropped the rows containing Nan in investor's name column. \n",
    "3. Rectified the names of the Investment Types as per the requirement.\n",
    "4. Filtered the database , kept only those rows having investment type \"private equity\". \n",
    "5. Created a dictionary by the name d , traversed through each and every investor’s name and maintained a count for each investor. There are many places where there are multiple investor’s name , in those conditions used split function to split all the names and traversed through each name separately and maintained there count.\n",
    "6. After getting the total number of times each investors invested in startups, sorted the keys according to the values of the dictionary in decreasing order and printed the first five names."
   ]
  },
  {
   "cell_type": "code",
   "execution_count": 9,
   "metadata": {},
   "outputs": [
    {
     "name": "stdout",
     "output_type": "stream",
     "text": [
      "Sequoia Capital\n",
      "Accel Partners\n",
      "Kalaari Capital\n",
      "SAIF Partners\n",
      "Blume Ventures\n"
     ]
    }
   ],
   "source": [
    "import pandas as pd\n",
    "import matplotlib.pyplot as plt\n",
    "import operator\n",
    "\n",
    "path=\"C:\\\\Users\\\\RAHUL\\\\Documents\\\\Pandas_Project\\\\Case_study2_(Startup_funding)\\\\startup_funding.csv\"\n",
    "data=pd.read_csv(path)\n",
    "df=data.copy()\n",
    "df.dropna(subset=['InvestorsName'],inplace=True)\n",
    "df['InvestorsName'].replace('Undisclosed Investors','', inplace=True)\n",
    "df['InvestorsName'].replace('Undisclosed investors','', inplace=True)\n",
    "df['InvestorsName'].replace('undisclosed investors','', inplace=True)\n",
    "# rectifying spells of the startup names:\n",
    "# df.StartupName = df.StartupName.apply(lambda x: 'Oyo' if 'Oyo' in x else x)\n",
    "# df.StartupName = df.StartupName.apply(lambda x: 'Flipkart' if 'Flipkart' in x else x)\n",
    "# df.StartupName = df.StartupName.apply(lambda x: 'Ola' if 'Ola' in x else x)\n",
    "# df.StartupName = df.StartupName.apply(lambda x: 'Paytm' if 'Paytm' in x else x)\n",
    "\n",
    "# rectifying spells of the Investment types\n",
    "df['InvestmentType'].replace('PrivateEquity','Private Equity', inplace=True)\n",
    "# df['InvestmentType'].replace('SeedFunding','Seed Funding', inplace=True)\n",
    "# df['InvestmentType'].replace('Crowd funding','Crowd Funding', inplace=True)\n",
    "df=df[(df['InvestmentType']==\"Private Equity\")]\n",
    "\n",
    "d={}\n",
    "for i in df['InvestorsName'].values:\n",
    "    if ',' in i:\n",
    "        string=i.strip().split(',')\n",
    "        for j in string:\n",
    "            j=j.strip()\n",
    "            d[j]=d.get(j,0)+1\n",
    "    else:\n",
    "        d[i]=d.get(i,0)+1\n",
    "    \n",
    "del d[\"\"]\n",
    "        \n",
    "h= dict(sorted(d.items(), key=operator.itemgetter(1),reverse=True))\n",
    "h= dict(list(h.items())[:5])\n",
    "for key, value in h.items(): \n",
    "    print (key)"
   ]
  },
  {
   "cell_type": "code",
   "execution_count": null,
   "metadata": {},
   "outputs": [],
   "source": []
  }
 ],
 "metadata": {
  "kernelspec": {
   "display_name": "Python 3",
   "language": "python",
   "name": "python3"
  },
  "language_info": {
   "codemirror_mode": {
    "name": "ipython",
    "version": 3
   },
   "file_extension": ".py",
   "mimetype": "text/x-python",
   "name": "python",
   "nbconvert_exporter": "python",
   "pygments_lexer": "ipython3",
   "version": "3.7.6"
  }
 },
 "nbformat": 4,
 "nbformat_minor": 4
}
